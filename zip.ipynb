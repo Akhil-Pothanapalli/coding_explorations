{
 "cells": [
  {
   "cell_type": "markdown",
   "metadata": {},
   "source": [
    "# zip( ) \n",
    "\n",
    "There are so many instances, where we access to iterable items in one for loop.\n",
    "\n",
    "zip() function comes in hands. Let's explore it.\n",
    "\n",
    "### Using basic for loop\n",
    "\n",
    "We are so familiar with using for loop for iterable items, we can do it even in sleep"
   ]
  },
  {
   "cell_type": "code",
   "execution_count": 2,
   "metadata": {},
   "outputs": [
    {
     "name": "stdout",
     "output_type": "stream",
     "text": [
      "Virat\n",
      "Rohit\n",
      "Bumrah\n"
     ]
    }
   ],
   "source": [
    "# define a iterable item \n",
    "\n",
    "players = ['Virat', 'Rohit', 'Bumrah']\n",
    "\n",
    "for each_player in players:\n",
    "    print(each_player)"
   ]
  },
  {
   "cell_type": "markdown",
   "metadata": {},
   "source": [
    "Let's increase the complexity to one more level. If you loop over \"players_qualities\" you will get the dictionaries."
   ]
  },
  {
   "cell_type": "code",
   "execution_count": 3,
   "metadata": {},
   "outputs": [
    {
     "name": "stdout",
     "output_type": "stream",
     "text": [
      "{'name': 'Virat Kohli', 'batting style': 'RHB', 'bowling style': 'right arm'}\n",
      "{'name': 'Rohit Sharma', 'batting style': 'RHB', 'bowling style': 'right arm'}\n",
      "{'name': 'Jasprit Bumrah', 'batting style': 'RHB', 'bowling style': 'right arm'}\n"
     ]
    }
   ],
   "source": [
    "# define a iterable item of iterables\n",
    "\n",
    "players_qualities = [\n",
    "    {'name': 'Virat Kohli', 'batting style': 'RHB', 'bowling style': 'right arm'},\n",
    "    {'name': 'Rohit Sharma', 'batting style': 'RHB', 'bowling style': 'right arm'},\n",
    "    {'name': 'Jasprit Bumrah', 'batting style': 'RHB', 'bowling style': 'right arm'},\n",
    "]\n",
    "\n",
    "for each_player_info in players_qualities:\n",
    "    print(each_player_info)"
   ]
  },
  {
   "cell_type": "markdown",
   "metadata": {},
   "source": [
    "Let's define another list. We will use it to get more intution about zip() function."
   ]
  },
  {
   "cell_type": "code",
   "execution_count": 4,
   "metadata": {},
   "outputs": [
    {
     "name": "stdout",
     "output_type": "stream",
     "text": [
      "High score is 183\n",
      "High score is 264\n",
      "High score is 16\n"
     ]
    }
   ],
   "source": [
    "ODI_high_scores = [183, 264, 16]\n",
    "\n",
    "for individual_HS  in ODI_high_scores:\n",
    "    print(\"High score is\", individual_HS)"
   ]
  },
  {
   "cell_type": "markdown",
   "metadata": {},
   "source": [
    "So, if I want to access multiple items in an iterable object, python's unpack feature will come in handy."
   ]
  },
  {
   "cell_type": "code",
   "execution_count": 11,
   "metadata": {},
   "outputs": [
    {
     "name": "stdout",
     "output_type": "stream",
     "text": [
      "Virat Kohli\n",
      "Virat Kohli\n",
      "Virat Kohli\n"
     ]
    }
   ],
   "source": [
    "for key1, key2, _ in players_qualities:\n",
    "    print(players_qualities[0][key1])"
   ]
  },
  {
   "cell_type": "markdown",
   "metadata": {},
   "source": [
    "Let's go through the above code once again. The for loop will access each dictionary at a time. Thus the \n",
    "key1, key2 will hold the keys of dictionaries 'name', 'batting style'. Also I have accessed the first dict using players_qualities[0], that is why you will see the same output multiple times.\n",
    "\n",
    "Since we left the third key as _, we can't access it. \n",
    "\n",
    "What will happen if I use more than 3 keys."
   ]
  },
  {
   "cell_type": "code",
   "execution_count": 13,
   "metadata": {},
   "outputs": [
    {
     "ename": "ValueError",
     "evalue": "not enough values to unpack (expected 4, got 3)",
     "output_type": "error",
     "traceback": [
      "\u001b[1;31m---------------------------------------------------------------------------\u001b[0m",
      "\u001b[1;31mValueError\u001b[0m                                Traceback (most recent call last)",
      "Cell \u001b[1;32mIn[13], line 1\u001b[0m\n\u001b[1;32m----> 1\u001b[0m \u001b[38;5;28;01mfor\u001b[39;00m key1, key2, key3, key4 \u001b[38;5;129;01min\u001b[39;00m players_qualities:\n\u001b[0;32m      2\u001b[0m     \u001b[38;5;28mprint\u001b[39m(\u001b[38;5;124m\"\u001b[39m\u001b[38;5;124mThe last key is :\u001b[39m\u001b[38;5;124m\"\u001b[39m, key4)\n",
      "\u001b[1;31mValueError\u001b[0m: not enough values to unpack (expected 4, got 3)"
     ]
    }
   ],
   "source": [
    "for key1, key2, key3, key4 in players_qualities:\n",
    "    print(\"The last key is :\", key4)"
   ]
  },
  {
   "cell_type": "markdown",
   "metadata": {},
   "source": [
    "You will get an error as \n",
    "\n",
    "ValueError: not enough values to unpack (expected 4, got 3)\n",
    "\n",
    "Because the dictionary items only contains 3 keys."
   ]
  },
  {
   "cell_type": "markdown",
   "metadata": {},
   "source": [
    "### Introduction of zip \n",
    "\n",
    "Let's loop through 2 items at once"
   ]
  },
  {
   "cell_type": "code",
   "execution_count": 18,
   "metadata": {},
   "outputs": [
    {
     "ename": "ValueError",
     "evalue": "too many values to unpack (expected 2)",
     "output_type": "error",
     "traceback": [
      "\u001b[1;31m---------------------------------------------------------------------------\u001b[0m",
      "\u001b[1;31mValueError\u001b[0m                                Traceback (most recent call last)",
      "Cell \u001b[1;32mIn[18], line 1\u001b[0m\n\u001b[1;32m----> 1\u001b[0m \u001b[38;5;28;01mfor\u001b[39;00m player, HS \u001b[38;5;129;01min\u001b[39;00m players, ODI_high_scores:\n\u001b[0;32m      2\u001b[0m     \u001b[38;5;28mprint\u001b[39m(\u001b[38;5;124mf\u001b[39m\u001b[38;5;124m'\u001b[39m\u001b[38;5;132;01m{\u001b[39;00mplayer\u001b[38;5;132;01m}\u001b[39;00m\u001b[38;5;124m highest score in ODI is \u001b[39m\u001b[38;5;132;01m{\u001b[39;00mHS\u001b[38;5;132;01m}\u001b[39;00m\u001b[38;5;124m'\u001b[39m)\n",
      "\u001b[1;31mValueError\u001b[0m: too many values to unpack (expected 2)"
     ]
    }
   ],
   "source": [
    "for player, HS in players, ODI_high_scores:\n",
    "    print(f'{player} highest score in ODI is {HS}')"
   ]
  },
  {
   "cell_type": "markdown",
   "metadata": {},
   "source": [
    "The above function will again results in a ValueError.\n",
    "\n",
    "Can you see where I'm getting to, I want to access two lists in a single for loop. But this will invoke the unpack feature. Thus we won't be successful. This is where the zip function comes to rescue."
   ]
  },
  {
   "cell_type": "code",
   "execution_count": 17,
   "metadata": {},
   "outputs": [
    {
     "name": "stdout",
     "output_type": "stream",
     "text": [
      "Virat highest score in ODI is 183\n",
      "Rohit highest score in ODI is 264\n",
      "Bumrah highest score in ODI is 16\n"
     ]
    }
   ],
   "source": [
    "for player, HS in zip(players, ODI_high_scores):\n",
    "    print(f'{player} highest score in ODI is {HS}')"
   ]
  },
  {
   "cell_type": "markdown",
   "metadata": {},
   "source": [
    "# I hope this helps you in your coding endeavours. "
   ]
  }
 ],
 "metadata": {
  "kernelspec": {
   "display_name": "Python 3",
   "language": "python",
   "name": "python3"
  },
  "language_info": {
   "codemirror_mode": {
    "name": "ipython",
    "version": 3
   },
   "file_extension": ".py",
   "mimetype": "text/x-python",
   "name": "python",
   "nbconvert_exporter": "python",
   "pygments_lexer": "ipython3",
   "version": "3.10.14"
  }
 },
 "nbformat": 4,
 "nbformat_minor": 2
}
